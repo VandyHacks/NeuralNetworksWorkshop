{
 "cells": [
  {
   "cell_type": "markdown",
   "metadata": {},
   "source": [
    "# A Simple MNIST Neural Network Example\n",
    "\n",
    "Vandyhacks Content Team\n",
    "\n",
    "Complementary Slides: https://docs.google.com/presentation/d/12HoHZ7RrKxewx9B0Ag8aJsFUzwKsk084JVNBA5w8vmI/edit#slide=id.g9211561d98_0_11"
   ]
  },
  {
   "cell_type": "markdown",
   "metadata": {},
   "source": [
    "# Load Data"
   ]
  },
  {
   "cell_type": "code",
   "execution_count": 4,
   "metadata": {},
   "outputs": [
    {
     "name": "stdout",
     "output_type": "stream",
     "text": [
      "Training images shape:  (60000, 28, 28)\n",
      "Testing images shape:   (10000, 28, 28)\n"
     ]
    }
   ],
   "source": [
    "import keras\n",
    "\n",
    "# load mnist\n",
    "from keras.datasets import mnist\n",
    "(training_images, training_labels), (testing_images, testing_labels) = mnist.load_data()\n",
    "\n",
    "print('Training images shape: ', training_images.shape)\n",
    "print('Testing images shape:  ', testing_images.shape)\n",
    "\n",
    "# record some dimensions\n",
    "num_training_images = training_images.shape[0]\n",
    "num_testing_images = testing_images.shape[0]\n",
    "dim_image = training_images.shape[1]"
   ]
  },
  {
   "cell_type": "markdown",
   "metadata": {},
   "source": [
    "# Preprocess Data"
   ]
  },
  {
   "cell_type": "code",
   "execution_count": 5,
   "metadata": {},
   "outputs": [
    {
     "name": "stdout",
     "output_type": "stream",
     "text": [
      "Training images shape:  (60000, 784)\n",
      "Testing images shape:   (10000, 784)\n"
     ]
    }
   ],
   "source": [
    "# flatten image arrays into vectors\n",
    "training_images = training_images.reshape(num_training_images, dim_image**2)\n",
    "testing_images = testing_images.reshape(num_testing_images, dim_image**2)\n",
    "\n",
    "# normalize color to scale from 0-1\n",
    "training_images = training_images.astype('float32') / 255\n",
    "testing_images = testing_images.astype('float32') / 255\n",
    "\n",
    "print('Training images shape: ', training_images.shape)\n",
    "print('Testing images shape:  ', testing_images.shape)"
   ]
  },
  {
   "cell_type": "code",
   "execution_count": 6,
   "metadata": {},
   "outputs": [
    {
     "name": "stdout",
     "output_type": "stream",
     "text": [
      "Training labels shape:  (60000,)\n"
     ]
    }
   ],
   "source": [
    "print('Training labels shape: ', training_labels.shape)"
   ]
  },
  {
   "cell_type": "code",
   "execution_count": 7,
   "metadata": {},
   "outputs": [
    {
     "name": "stdout",
     "output_type": "stream",
     "text": [
      "Training labels shape (one hot):  (60000, 10)\n"
     ]
    }
   ],
   "source": [
    "# transform each label to a one-hot array\n",
    "from keras.utils import to_categorical\n",
    "training_labels = to_categorical(training_labels)\n",
    "testing_labels = to_categorical(testing_labels)\n",
    "print('Training labels shape: ', training_labels.shape)"
   ]
  },
  {
   "cell_type": "markdown",
   "metadata": {},
   "source": [
    "# Define Network"
   ]
  },
  {
   "cell_type": "code",
   "execution_count": 8,
   "metadata": {},
   "outputs": [],
   "source": [
    "from keras import models\n",
    "from keras import layers\n",
    "\n",
    "# input size is 784\n",
    "# final output is 10\n",
    "network = models.Sequential()\n",
    "network.add(layers.Dense(200, activation='relu', input_shape=(dim_image**2,)))\n",
    "\n",
    "network.add(layers.Dense(10, activation='softmax'))"
   ]
  },
  {
   "cell_type": "markdown",
   "metadata": {},
   "source": [
    "# Train and Test"
   ]
  },
  {
   "cell_type": "code",
   "execution_count": 15,
   "metadata": {},
   "outputs": [
    {
     "name": "stdout",
     "output_type": "stream",
     "text": [
      "Train on 54000 samples, validate on 6000 samples\n",
      "Epoch 1/20\n",
      "54000/54000 [==============================] - 2s 45us/step - loss: 0.0358 - accuracy: 0.8118 - val_loss: 0.0317 - val_accuracy: 0.8548\n",
      "Epoch 2/20\n",
      "54000/54000 [==============================] - 2s 35us/step - loss: 0.0347 - accuracy: 0.8176 - val_loss: 0.0306 - val_accuracy: 0.8605\n",
      "Epoch 3/20\n",
      "54000/54000 [==============================] - 2s 38us/step - loss: 0.0336 - accuracy: 0.8223 - val_loss: 0.0295 - val_accuracy: 0.8640\n",
      "Epoch 4/20\n",
      "54000/54000 [==============================] - 2s 36us/step - loss: 0.0326 - accuracy: 0.8269 - val_loss: 0.0285 - val_accuracy: 0.8668\n",
      "Epoch 5/20\n",
      "54000/54000 [==============================] - 2s 36us/step - loss: 0.0317 - accuracy: 0.8315 - val_loss: 0.0276 - val_accuracy: 0.8693\n",
      "Epoch 6/20\n",
      "54000/54000 [==============================] - 2s 35us/step - loss: 0.0309 - accuracy: 0.8350 - val_loss: 0.0267 - val_accuracy: 0.8730\n",
      "Epoch 7/20\n",
      "54000/54000 [==============================] - 2s 35us/step - loss: 0.0301 - accuracy: 0.8387 - val_loss: 0.0260 - val_accuracy: 0.8745\n",
      "Epoch 8/20\n",
      "54000/54000 [==============================] - 2s 35us/step - loss: 0.0294 - accuracy: 0.8416 - val_loss: 0.0253 - val_accuracy: 0.8767\n",
      "Epoch 9/20\n",
      "54000/54000 [==============================] - 2s 34us/step - loss: 0.0287 - accuracy: 0.8448 - val_loss: 0.0246 - val_accuracy: 0.8792\n",
      "Epoch 10/20\n",
      "54000/54000 [==============================] - 2s 36us/step - loss: 0.0281 - accuracy: 0.8472 - val_loss: 0.0240 - val_accuracy: 0.8810\n",
      "Epoch 11/20\n",
      "54000/54000 [==============================] - 2s 39us/step - loss: 0.0276 - accuracy: 0.8499 - val_loss: 0.0235 - val_accuracy: 0.8833\n",
      "Epoch 12/20\n",
      "54000/54000 [==============================] - 2s 40us/step - loss: 0.0270 - accuracy: 0.8520 - val_loss: 0.0229 - val_accuracy: 0.8853\n",
      "Epoch 13/20\n",
      "54000/54000 [==============================] - 2s 35us/step - loss: 0.0265 - accuracy: 0.8543 - val_loss: 0.0225 - val_accuracy: 0.8875\n",
      "Epoch 14/20\n",
      "54000/54000 [==============================] - 2s 40us/step - loss: 0.0261 - accuracy: 0.8560 - val_loss: 0.0220 - val_accuracy: 0.8892\n",
      "Epoch 15/20\n",
      "54000/54000 [==============================] - 2s 35us/step - loss: 0.0256 - accuracy: 0.8579 - val_loss: 0.0216 - val_accuracy: 0.8912\n",
      "Epoch 16/20\n",
      "54000/54000 [==============================] - 2s 39us/step - loss: 0.0252 - accuracy: 0.8598 - val_loss: 0.0212 - val_accuracy: 0.8933\n",
      "Epoch 17/20\n",
      "54000/54000 [==============================] - 2s 36us/step - loss: 0.0248 - accuracy: 0.8616 - val_loss: 0.0208 - val_accuracy: 0.8942\n",
      "Epoch 18/20\n",
      "54000/54000 [==============================] - 2s 36us/step - loss: 0.0245 - accuracy: 0.8633 - val_loss: 0.0205 - val_accuracy: 0.8955\n",
      "Epoch 19/20\n",
      "54000/54000 [==============================] - 2s 35us/step - loss: 0.0241 - accuracy: 0.8647 - val_loss: 0.0201 - val_accuracy: 0.8960\n",
      "Epoch 20/20\n",
      "54000/54000 [==============================] - 2s 35us/step - loss: 0.0238 - accuracy: 0.8660 - val_loss: 0.0198 - val_accuracy: 0.8977\n",
      "Done training!\n",
      "10000/10000 [==============================] - 0s 44us/step\n",
      "test_acc: 0.8794000148773193\n"
     ]
    }
   ],
   "source": [
    "network.compile(optimizer='sgd', loss='mean_squared_error', metrics=['accuracy'])\n",
    "\n",
    "history = network.fit(training_images, training_labels, verbose=True, validation_split=.1, epochs=20, batch_size=128)\n",
    "print('Done training!')\n",
    "\n",
    "# test network\n",
    "testing_loss, testing_accuracy = network.evaluate(testing_images, testing_labels, verbose=True)\n",
    "print('test_acc:', testing_accuracy)\n"
   ]
  }
 ],
 "metadata": {
  "kernelspec": {
   "display_name": "Python 3",
   "language": "python",
   "name": "python3"
  },
  "language_info": {
   "codemirror_mode": {
    "name": "ipython",
    "version": 3
   },
   "file_extension": ".py",
   "mimetype": "text/x-python",
   "name": "python",
   "nbconvert_exporter": "python",
   "pygments_lexer": "ipython3",
   "version": "3.6.10"
  }
 },
 "nbformat": 4,
 "nbformat_minor": 2
}
